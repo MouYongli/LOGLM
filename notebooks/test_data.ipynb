{
 "cells": [
  {
   "cell_type": "code",
   "execution_count": 4,
   "metadata": {},
   "outputs": [],
   "source": [
    "import os\n",
    "import os.path as path\n",
    "import json"
   ]
  },
  {
   "cell_type": "code",
   "execution_count": 5,
   "metadata": {},
   "outputs": [],
   "source": [
    "project_path = '/home/mou/Projects/COLING-LogicLLM/LogLM'\n",
    "data_path = osp.join(project_path, 'data')\n",
    "demonstration_path = osp.join(project_path, 'src/logicllm/prompts/baseline')\n",
    "datasets = ['FOLIO', 'AR-LSAT', 'LogicalDeduction', 'ProntoQA', 'ProofWriter']"
   ]
  },
  {
   "cell_type": "markdown",
   "metadata": {},
   "source": [
    "# Statistics"
   ]
  },
  {
   "cell_type": "code",
   "execution_count": 6,
   "metadata": {},
   "outputs": [
    {
     "name": "stdout",
     "output_type": "stream",
     "text": [
      "Number of examples in FOLIO dev split: 204\n",
      "Number of examples in AR-LSAT dev split: 231\n",
      "Number of examples in LogicalDeduction dev split: 300\n",
      "Number of examples in ProntoQA dev split: 500\n",
      "Number of examples in ProofWriter dev split: 600\n"
     ]
    }
   ],
   "source": [
    "split = 'dev'\n",
    "\n",
    "for dataset_name in datasets:\n",
    "    with open(os.path.join(data_path, dataset_name, f'{split}.json')) as f:\n",
    "        raw_dataset = json.load(f)\n",
    "    print(f'Number of examples in {dataset_name} {split} split: {len(raw_dataset)}')"
   ]
  },
  {
   "cell_type": "markdown",
   "metadata": {},
   "source": [
    "# Prompt example"
   ]
  },
  {
   "cell_type": "code",
   "execution_count": 7,
   "metadata": {},
   "outputs": [
    {
     "name": "stdout",
     "output_type": "stream",
     "text": [
      "Given a problem statement as contexts, the task is to answer a logical reasoning question. \n",
      "------\n",
      "Context:\n",
      "All people who regularly drink coffee are dependent on caffeine. People either regularly drink coffee or joke about being addicted to caffeine. No one who jokes about being addicted to caffeine is unaware that caffeine is a drug. Rina is either a student and unaware that caffeine is a drug, or neither a student nor unaware that caffeine is a drug. If Rina is not a person dependent on caffeine and a student, then Rina is either a person dependent on caffeine and a student, or neither a person dependent on caffeine nor a student.\n",
      "\n",
      "Question: Based on the above information, is the following statement true, false, or uncertain? Rina is a person who jokes about being addicted to caffeine or unaware that caffeine is a drug.\n",
      "\n",
      "Options:\n",
      "A) True\n",
      "B) False\n",
      "C) Uncertain\n",
      "\n",
      "The correct option is: A\n",
      "------\n",
      "Context:\n",
      "William Dickinson was a British politician who sat in the House of Commons William Dickinson attended Westminster school for high school and then the University of Edinburgh. The University of Edinburgh is a university located in the United Kingdom. William Dickinson supported the Portland Whigs. People who supported the Portland Whigs did not get a seat in the Parliament.\n",
      "\n",
      "Question: Based on the above information, is the following statement true, false, or uncertain? William Dickinson went to schools located in the United Kingdom for both high school and university.\n",
      "\n",
      "Options:\n",
      "A) True\n",
      "B) False\n",
      "C) Uncertain\n",
      "\n",
      "The correct option is: C\n",
      "------\n",
      "Context:\n",
      "If people perform in school talent shows often, then they attend and are very engaged with school events. People either perform in school talent shows often or are inactive and disinterested members of their community. If people chaperone high school dances, then they are not students who attend the school. All people who are inactive and disinterested members of their community chaperone high school dances. All young children and teenagers who wish to further their academic careers and educational opportunities are students who attend the school. Bonnie either both attends and is very engaged with school events and is a student who attends the school, or she neither attends and is very engaged with school events nor is a student who attends the school.\n",
      "\n",
      "Question: Based on the above information, is the following statement true, false, or uncertain? Bonnie performs in school talent shows often.\n",
      "\n",
      "Options:\n",
      "A) True\n",
      "B) False\n",
      "C) Uncertain\n",
      "\n",
      "The correct option is:\n"
     ]
    }
   ],
   "source": [
    "dataset_name = 'FOLIO'\n",
    "split = 'dev'\n",
    "mode = 'Direct'\n",
    "stop_words = \"------\"\n",
    "label_phrase = 'The correct option is:'\n",
    "\n",
    "def prompt_creator(in_context_example, test_example):\n",
    "    full_prompt = in_context_example\n",
    "    context = test_example['context'].strip()\n",
    "    question = test_example['question'].strip()\n",
    "    options = '\\n'.join([opt.strip() for opt in test_example['options']])\n",
    "    full_prompt = full_prompt.replace('[[CONTEXT]]', context)\n",
    "    full_prompt = full_prompt.replace('[[QUESTION]]', question)\n",
    "    full_prompt = full_prompt.replace('[[OPTIONS]]', options)\n",
    "    return full_prompt\n",
    "\n",
    "with open(os.path.join(data_path, dataset_name, f'{split}.json')) as f:\n",
    "    raw_dataset = json.load(f)\n",
    "\n",
    "with open(os.path.join(demonstration_path, f'{dataset_name}_{mode}.txt')) as f:\n",
    "    in_context_examples = f.read()\n",
    "    \n",
    "example = raw_dataset[0]\n",
    "question, answer = example['question'], example['answer']\n",
    "full_prompt = prompt_creator(in_context_examples, example)\n",
    "\n",
    "print(full_prompt)\n",
    "\n",
    "# batch_size = 10\n",
    "# dataset_chunks = [raw_dataset[i:i + batch_size] for i in range(0, len(raw_dataset), batch_size)]"
   ]
  }
 ],
 "metadata": {
  "kernelspec": {
   "display_name": "ukge",
   "language": "python",
   "name": "python3"
  },
  "language_info": {
   "codemirror_mode": {
    "name": "ipython",
    "version": 3
   },
   "file_extension": ".py",
   "mimetype": "text/x-python",
   "name": "python",
   "nbconvert_exporter": "python",
   "pygments_lexer": "ipython3",
   "version": "3.11.9"
  }
 },
 "nbformat": 4,
 "nbformat_minor": 2
}

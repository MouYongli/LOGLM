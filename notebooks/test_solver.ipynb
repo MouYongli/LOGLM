{
 "cells": [
  {
   "cell_type": "code",
   "execution_count": 1,
   "metadata": {},
   "outputs": [],
   "source": [
    "import os\n",
    "import os.path as osp\n",
    "\n",
    "project_path = '/home/mou/Projects/COLING-LogicLLM/LogLM'\n",
    "prover9_path = osp.join(project_path, 'src/logicllm/symbolic_solvers/Prover9/bin')\n",
    "\n",
    "from logicllm.symbolic_solvers.fol_solver.prover9_solver import FOL_Prover9_Program\n",
    "# from logicllm.symbolic_solvers.pyke_solver.pyke_solver import Pyke_Program\n",
    "# from logicllm.symbolic_solvers.csp_solver.csp_solver import CSP_Program\n",
    "# from logicllm.symbolic_solvers.z3_solver.sat_problem_solver import LSAT_Z3_Program\n",
    "\n",
    "\n",
    "os.environ['PROVER9'] = prover9_path\n",
    "\n",
    "dataset_name = 'FOLIO'\n",
    "\n",
    "program_executor_map = {\n",
    "    'FOLIO': FOL_Prover9_Program, \n",
    "    # 'ProntoQA': Pyke_Program, \n",
    "    # 'ProofWriter': Pyke_Program,\n",
    "    # 'LogicalDeduction': CSP_Program,\n",
    "    # 'AR-LSAT': LSAT_Z3_Program\n",
    "}\n",
    "\n",
    "program_executor = program_executor_map[dataset_name]\n",
    "logic_program = \"\"\"\n",
    "Predicates:\n",
    "Perform(x) ::: x performs in school talent shows often.\n",
    "Attend(x) ::: x attends and is very engaged with school events.\n",
    "Inactive(x) ::: x is an inactive and disinterested member of their community.\n",
    "Chaperone(x) ::: x chaperones high school dances.\n",
    "Student(x) ::: x is a student who attends the school.\n",
    "Young(x) ::: x is a young child or teenager who wishes to further their academic careers and educational opportunities.\n",
    "Premises:\n",
    "∀x (Perform(x) → Attend(x)) ::: If people perform in school talent shows often, then they attend and are very engaged with school events.\n",
    "∀x (Perform(x) ⊕ Inactive(x)) ::: People either perform in school talent shows often or are inactive and disinterested members of their community.\n",
    "∀x (Chaperone(x) → ¬Student(x)) ::: If people chaperone high school dances, then they are not students who attend the school.\n",
    "∀x (Inactive(x) → Chaperone(x)) ::: All people who are inactive and disinterested members of their community chaperone high school dances.\n",
    "∀x (Young(x) → Student(x)) ::: All young children and teenagers who wish to further their academic careers and educational opportunities are students who attend the school.\n",
    "(Attend(bonnie) ∧ Student(bonnie)) ⊕ ¬(Attend(bonnie) ∨ Student(bonnie)) ::: Bonnie either both attends and is very engaged with school events and is a student who attends the school, or she neither attends and is very engaged with school events nor is a student who attends the school.\n",
    "Conclusion:\n",
    "Perform(bonnie) ::: Bonnie performs in school talent shows often.\n",
    "\"\"\"\n",
    "\n",
    "# def safe_execute_program(id, logic_program):\n",
    "#     program = program_executor(logic_program, dataset_name)\n",
    "#     # cannot parse the program\n",
    "#     if program.flag == False:\n",
    "#         answer = backup_generator.get_backup_answer(id)\n",
    "#         return answer, 'parsing error', ''\n",
    "#     # execuate the program\n",
    "#     answer, error_message = program.execute_program()\n",
    "#     # not executable\n",
    "#     if answer is None:\n",
    "#         answer = backup_generator.get_backup_answer(id)\n",
    "#         return answer, 'execution error', error_message\n",
    "#     # successfully executed\n",
    "#     answer = program.answer_mapping(answer)\n",
    "#     return answer, 'success', ''"
   ]
  },
  {
   "cell_type": "code",
   "execution_count": 2,
   "metadata": {},
   "outputs": [],
   "source": [
    "\n",
    "program = program_executor(logic_program, dataset_name)"
   ]
  },
  {
   "cell_type": "code",
   "execution_count": 3,
   "metadata": {},
   "outputs": [
    {
     "name": "stdout",
     "output_type": "stream",
     "text": [
      "False\n"
     ]
    }
   ],
   "source": [
    "answer, error_message = program.execute_program()\n",
    "print(answer)"
   ]
  },
  {
   "cell_type": "code",
   "execution_count": 4,
   "metadata": {},
   "outputs": [
    {
     "name": "stdout",
     "output_type": "stream",
     "text": [
      "C\n"
     ]
    }
   ],
   "source": [
    "answer = program.answer_mapping(answer)\n",
    "print(answer)"
   ]
  }
 ],
 "metadata": {
  "kernelspec": {
   "display_name": "logicllm",
   "language": "python",
   "name": "python3"
  },
  "language_info": {
   "codemirror_mode": {
    "name": "ipython",
    "version": 3
   },
   "file_extension": ".py",
   "mimetype": "text/x-python",
   "name": "python",
   "nbconvert_exporter": "python",
   "pygments_lexer": "ipython3",
   "version": "3.11.9"
  }
 },
 "nbformat": 4,
 "nbformat_minor": 2
}
